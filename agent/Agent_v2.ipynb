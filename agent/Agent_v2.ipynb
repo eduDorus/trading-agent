{
 "cells": [
  {
   "cell_type": "markdown",
   "metadata": {},
   "source": [
    "# DQN Trading Agent"
   ]
  },
  {
   "cell_type": "markdown",
   "metadata": {},
   "source": [
    "## Read database"
   ]
  },
  {
   "cell_type": "code",
   "execution_count": null,
   "metadata": {},
   "outputs": [],
   "source": [
    "#TO READ THE DATABASE\n",
    "import h5py\n",
    "\n",
    "DB_FILE = \"../data/dataset_1h_1000.hdf5\"\n",
    "DB = h5py.File(DB_FILE, \"r\")\n",
    "\n",
    "for item in DB:\n",
    "    print(item)"
   ]
  },
  {
   "cell_type": "code",
   "execution_count": null,
   "metadata": {
    "scrolled": false
   },
   "outputs": [],
   "source": [
    "# Show the values of the first timestep\n",
    "print(DB[\"bitcoin_usd\"][0:2])"
   ]
  },
  {
   "cell_type": "markdown",
   "metadata": {},
   "source": [
    "## Define packages"
   ]
  },
  {
   "cell_type": "code",
   "execution_count": null,
   "metadata": {
    "collapsed": true
   },
   "outputs": [],
   "source": [
    "import random\n",
    "import numpy as np"
   ]
  },
  {
   "cell_type": "markdown",
   "metadata": {},
   "source": [
    "## Define DQN Agent"
   ]
  },
  {
   "cell_type": "code",
   "execution_count": null,
   "metadata": {
    "scrolled": true
   },
   "outputs": [],
   "source": [
    "from collections import deque\n",
    "from keras.models import Model \n",
    "from keras.layers import Input, Dense, Flatten, Reshape\n",
    "from keras.optimizers import Adam\n",
    "from keras import backend as K\n",
    "import keras\n",
    "\n",
    "K.set_image_dim_ordering('tf')\n",
    "\n",
    "class DQNAgent:\n",
    "    def __init__(self, frame_size, frame_parameter_number, aux_number, action_size):\n",
    "        self.frame_size = frame_size\n",
    "        self.frame_parameter_number =  frame_parameter_number\n",
    "        self.aux_number = aux_number\n",
    "        self.action_size = action_size\n",
    "        self.memory = deque(maxlen=2000)\n",
    "        self.gamma = 0.95    # discount rate\n",
    "        self.epsilon = 1.0  # exploration rate\n",
    "        self.epsilon_min = 0.01\n",
    "        self.epsilon_decay = 0.995\n",
    "        self.learning_rate = 0.001\n",
    "        self.model = self._build_model()\n",
    "\n",
    "    def _build_model(self):\n",
    "        # Neural Net for Deep-Q learning Model\n",
    "        # Main input (the time frame)\n",
    "        main_input = Input(shape=(frame_parameter_number,self.frame_size))\n",
    "        main = Flatten()(main_input)\n",
    "        \n",
    "        # Additional input (other inputs)\n",
    "        aux_input = Input(shape=(aux_number,))\n",
    "        \n",
    "        x = keras.layers.concatenate([main, aux_input])\n",
    "        x = Dense(32, activation='relu')(x)\n",
    "        x = Dense(32, activation='relu')(x)\n",
    "        x = Dense(16, activation='relu')(x)\n",
    "        out = Dense(self.action_size, activation='linear')(x)\n",
    "        \n",
    "        model = Model(inputs=[main_input, aux_input], outputs=out)\n",
    "        model.compile(loss='mse', optimizer=Adam(lr=self.learning_rate))\n",
    "        print(model.summary())\n",
    "        return model\n",
    "\n",
    "    def remember(self, state, action, reward, next_state, done):\n",
    "        self.memory.append((state, action, reward, next_state, done))\n",
    "\n",
    "    def act(self, state):\n",
    "        if np.random.rand() <= self.epsilon:\n",
    "            # The agent acts randomly\n",
    "            return random.randrange(self.action_size)\n",
    "        \n",
    "        # Predict the reward value based on the given state\n",
    "        act_values = self.model.predict(state)\n",
    "        \n",
    "        # Pick the action based on the predicted reward\n",
    "        return np.argmax(act_values[0])  # returns action\n",
    "\n",
    "    def replay(self, batch_size):\n",
    "        # Sample minibatch from the memory\n",
    "        minibatch = random.sample(self.memory, batch_size)\n",
    "        \n",
    "        # Extract informations from each memory\n",
    "        for state, action, reward, next_state, done in minibatch:\n",
    "            \n",
    "            # if done, make our target reward\n",
    "            target = reward\n",
    "            if not done:\n",
    "                # predict the future discounted reward\n",
    "                target = (reward + self.gamma *\n",
    "                          np.amax(self.model.predict(next_state)[0]))\n",
    "                \n",
    "            # make the agent to approximately map\n",
    "            # the current state to future discounted reward\n",
    "            # We'll call that target_f\n",
    "            target_f = self.model.predict(state)\n",
    "            target_f[0][action] = target\n",
    "            \n",
    "            # Train the Neural Net with the state and target_f\n",
    "            self.model.fit(state, target_f, epochs=1, verbose=0)\n",
    "        if self.epsilon > self.epsilon_min:\n",
    "            self.epsilon *= self.epsilon_decay\n",
    "\n",
    "    def load(self, name):\n",
    "        self.model.load_weights(name)\n",
    "\n",
    "    def save(self, name):\n",
    "        self.model.save_weights(name)"
   ]
  },
  {
   "cell_type": "markdown",
   "metadata": {},
   "source": [
    "## Define Trading Game"
   ]
  },
  {
   "cell_type": "code",
   "execution_count": null,
   "metadata": {
    "collapsed": true
   },
   "outputs": [],
   "source": [
    "class TradingGame:\n",
    "    def __init__(self, start_capital, frame_size, database):\n",
    "        self.start_capital = start_capital\n",
    "        self.frame_size = frame_size\n",
    "        \n",
    "        self.database = np.asarray(database[\"bitcoin_usd\"])\n",
    "        self.capital = start_capital\n",
    "        self.timestep = 0\n",
    "        self.time_frame = self.database[0:self.frame_size]\n",
    "        \n",
    "        self.position = 0\n",
    "        self.state = None\n",
    "    \n",
    "    ### Reset function\n",
    "    def reset(self):\n",
    "        # Set everything to the initial start value\n",
    "        self.capital = self.start_capital\n",
    "        self.timestep = 0\n",
    "        self.time_frame = self.database[0:self.frame_size]\n",
    "        \n",
    "        self.position = 0.0\n",
    "        \n",
    "        # state => (time_frame, capital, position)\n",
    "        frame = np.reshape(self.time_frame, [1, 6, frame_size])\n",
    "        aux = np.reshape([self.capital, self.position], [1, 2])\n",
    "        self.state = [frame, aux]\n",
    "        \n",
    "        return self.state\n",
    "    \n",
    "    \n",
    "    ### Next frame function\n",
    "    def get_next_frame(self):\n",
    "        self.timestep += 1\n",
    "        \n",
    "        if (self.frame_size+self.timestep) < self.database.shape[0]:\n",
    "            next_frame = self.database[self.timestep:self.frame_size+self.timestep]\n",
    "            done = False\n",
    "        else:\n",
    "            next_frame = self.time_frame\n",
    "            done = True\n",
    "            \n",
    "        return next_frame, done\n",
    "    \n",
    "    ### Reward function\n",
    "    def calc_reward(self, action, next_frame):\n",
    "        # Get new price\n",
    "        new_price = next_frame[self.frame_size-1, 2]\n",
    "        \n",
    "        # Check the action and calculate the reward\n",
    "        #hold\n",
    "        if action == 0: \n",
    "            reward = 0\n",
    "            \n",
    "        #buy\n",
    "        elif action == 1: \n",
    "            if self.position is 0:\n",
    "                reward = 0\n",
    "                self.position = new_price\n",
    "            else:\n",
    "                reward = -100\n",
    "                \n",
    "        #sell\n",
    "        elif action == 2: \n",
    "            if self.position is not 0:\n",
    "                reward = new_price - self.position\n",
    "                self.position = 0\n",
    "            else:\n",
    "                reward = -100\n",
    "        return reward\n",
    "    \n",
    "    ### Next step function\n",
    "    def step(self, action):\n",
    "        # Get next time frame\n",
    "        next_frame, done = self.get_next_frame()\n",
    "        \n",
    "        # Get reward\n",
    "        reward = self.calc_reward(action, next_frame)\n",
    "        \n",
    "        # check if done\n",
    "        self.capital += reward\n",
    "        if self.capital <= 0:\n",
    "            done = True\n",
    "            \n",
    "        # Next state\n",
    "        next_frame = np.reshape(next_frame, [1, 6, frame_size])\n",
    "        next_aux = np.reshape([self.capital, self.position], [1, 2])\n",
    "        next_state = [next_frame, next_aux]\n",
    "        \n",
    "        # update state\n",
    "        self.state = next_state\n",
    "        \n",
    "        return next_state, reward, done\n",
    "    \n",
    "    def get_score(self):\n",
    "        return self.capital"
   ]
  },
  {
   "cell_type": "markdown",
   "metadata": {},
   "source": [
    "## Train the agent"
   ]
  },
  {
   "cell_type": "markdown",
   "metadata": {},
   "source": [
    "### Set parameters"
   ]
  },
  {
   "cell_type": "code",
   "execution_count": null,
   "metadata": {
    "collapsed": true
   },
   "outputs": [],
   "source": [
    "# Parameter for Agent\n",
    "frame_size = 100 # Time frame\n",
    "frame_parameter_number = 6\n",
    "aux_number = 2 # Additional parameters\n",
    "#state_attributes = 8\n",
    "action_size = 3 # hold, buy, sell\n",
    "\n",
    "# Parameter for Trading\n",
    "batch_size = 64\n",
    "EPISODES = 1000\n",
    "CAPITAL = 10000\n",
    "#POSITION = 0"
   ]
  },
  {
   "cell_type": "markdown",
   "metadata": {},
   "source": [
    "### Training"
   ]
  },
  {
   "cell_type": "code",
   "execution_count": null,
   "metadata": {},
   "outputs": [],
   "source": [
    "# Create agent\n",
    "agent = DQNAgent(frame_size, frame_parameter_number, aux_number, action_size)\n",
    "\n",
    "# Initialize Environment\n",
    "env = TradingGame(CAPITAL, frame_size, DB)"
   ]
  },
  {
   "cell_type": "code",
   "execution_count": null,
   "metadata": {},
   "outputs": [],
   "source": [
    "#Episodes to train\n",
    "for e in range(EPISODES):\n",
    "    \n",
    "    #Create initial state from time frame\n",
    "    state = env.reset()\n",
    "    #state = np.asarray(state)\n",
    "    #state = np.reshape(state, [1, 6, frame_size,])\n",
    "\n",
    "    #time frames\n",
    "    for time_frame in range(frame_size, 1000):\n",
    "        \n",
    "        #Agent takes action\n",
    "        action = agent.act(state)\n",
    "\n",
    "        #Calc reward\n",
    "        next_state, reward, done = env.step(action)\n",
    "        #print(next_state)\n",
    "        #next_state = np.reshape(next_state, [1, 6, frame_size])\n",
    "        \n",
    "        #Remember action\n",
    "        agent.remember(state, action, reward, next_state, done)\n",
    "        \n",
    "        #Override state with next state\n",
    "        state = next_state\n",
    "        \n",
    "        if done:\n",
    "            print(\"episode: {}/{}, score: {}, e: {:.2}\"\n",
    "                  .format(e, EPISODES, env.get_score(), agent.epsilon))\n",
    "            break\n",
    "       \n",
    "    #Replay\n",
    "    if len(agent.memory) > batch_size:\n",
    "        agent.replay(batch_size)\n",
    "    # if e % 10 == 0:\n",
    "    #     agent.save(\"./save/cartpole-dqn.h5\")\n",
    "        \n",
    "    "
   ]
  },
  {
   "cell_type": "markdown",
   "metadata": {},
   "source": [
    "def calc_next_state(state):\n",
    "#Calc Capital (action == 0 then sell, action == 1 then buy) 5 coins * state_close_price\n",
    "        #Calc position (current position -/+ differ from action)\n",
    "        #Get newest state item and append capital and position\n",
    "        #Remove latest entry and add new state item"
   ]
  },
  {
   "cell_type": "code",
   "execution_count": null,
   "metadata": {
    "collapsed": true
   },
   "outputs": [],
   "source": []
  }
 ],
 "metadata": {
  "kernelspec": {
   "display_name": "Python 3",
   "language": "python",
   "name": "python3"
  },
  "language_info": {
   "codemirror_mode": {
    "name": "ipython",
    "version": 3
   },
   "file_extension": ".py",
   "mimetype": "text/x-python",
   "name": "python",
   "nbconvert_exporter": "python",
   "pygments_lexer": "ipython3",
   "version": "3.6.1"
  }
 },
 "nbformat": 4,
 "nbformat_minor": 2
}
