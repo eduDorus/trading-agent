{
 "cells": [
  {
   "cell_type": "code",
   "execution_count": 2,
   "metadata": {},
   "outputs": [],
   "source": [
    "import requests\n",
    "import numpy as np\n",
    "import h5py\n",
    "\n",
    "\n",
    "BITCOIN_URL = \"https://api.bitfinex.com/v2/candles/trade:1h:tBTCUSD/hist/?limit=1000\"\n",
    "ETHERIUM_URL = \"https://api.bitfinex.com/v2/candles/trade:1h:tETHUSD/hist/?limit=1000\"\n",
    "RIPPLE_URL = \"https://api.bitfinex.com/v2/candles/trade:1h:tXRPUSD/hist/?limit=1000\"\n",
    "\n",
    "\n",
    "def get_data(url):\n",
    "    #Request data\n",
    "    req = requests.get(url);\n",
    "\n",
    "    #Transform data to numpy array\n",
    "    data = np.array(eval(req.text))\n",
    "    return data\n",
    "\n",
    "\n",
    "def main():\n",
    "    #Create file\n",
    "    file = h5py.File(\"dataset_1h_1000.hdf5\", \"w\")\n",
    "\n",
    "    #Add bitcoin to dataset\n",
    "    file.create_dataset(\"bitcoin_usd\", data=get_data(BITCOIN_URL))\n",
    "\n",
    "    #Add etherium to dataset\n",
    "    file.create_dataset(\"etherium_usd\", data=get_data(ETHERIUM_URL))\n",
    "\n",
    "    #Add ripple to dataset\n",
    "    file.create_dataset(\"ripple_usd\", data=get_data(RIPPLE_URL))\n",
    "\n",
    "\n",
    "if __name__ == \"__main__\":\n",
    "    main()"
   ]
  },
  {
   "cell_type": "code",
   "execution_count": null,
   "metadata": {},
   "outputs": [],
   "source": []
  }
 ],
 "metadata": {
  "kernelspec": {
   "display_name": "Python 3",
   "language": "python",
   "name": "python3"
  },
  "language_info": {
   "codemirror_mode": {
    "name": "ipython",
    "version": 3
   },
   "file_extension": ".py",
   "mimetype": "text/x-python",
   "name": "python",
   "nbconvert_exporter": "python",
   "pygments_lexer": "ipython3",
   "version": "3.6.1"
  }
 },
 "nbformat": 4,
 "nbformat_minor": 2
}
